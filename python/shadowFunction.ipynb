{
 "cells": [
  {
   "cell_type": "code",
   "execution_count": 1,
   "metadata": {},
   "outputs": [],
   "source": [
    "import matplotlib.pyplot as plt\n",
    "import numpy as np"
   ]
  },
  {
   "cell_type": "code",
   "execution_count": 78,
   "metadata": {},
   "outputs": [],
   "source": [
    "n = 10000\n",
    "theta = np.linspace(0,np.pi*2, n)\n",
    "# theta = np.linspace(0,np.pi*2, n)\n",
    "r = 42_164 * 1000\n",
    "earthR = 6_371 * 1000\n",
    "sunR = 696_340 * 1000\n",
    "\n",
    "x = r * np.cos(theta)\n",
    "y = r * np.sin(theta)\n",
    "z = np.zeros(n)\n",
    "\n",
    "\n",
    "rSunX = 147_100_000_000\n",
    "rSunY = 0\n",
    "rSunZ = 0\n"
   ]
  },
  {
   "cell_type": "code",
   "execution_count": 82,
   "metadata": {},
   "outputs": [
    {
     "data": {
      "text/plain": [
       "[<matplotlib.lines.Line2D at 0x7f9a79721a90>]"
      ]
     },
     "execution_count": 82,
     "metadata": {},
     "output_type": "execute_result"
    }
   ],
   "source": [
    "plt.plot(theta,x)\n",
    "plt.plot(theta,y)"
   ]
  },
  {
   "cell_type": "code",
   "execution_count": 3,
   "metadata": {},
   "outputs": [],
   "source": [
    "def dot(x1,y1,z1,x2,y2,z2):\n",
    "    return x1*x2 + y1*y2 + z1*z2"
   ]
  },
  {
   "cell_type": "code",
   "execution_count": 4,
   "metadata": {},
   "outputs": [],
   "source": [
    "def s_c(x,y,z, rSunX, rSunY,rSunZ, planetR):\n",
    "    r_rSun = dot(x,y,z, rSunX,rSunY,rSunZ)\n",
    "\n",
    "    rSunMag = np.sqrt(float(rSunX * rSunX + rSunY * rSunY + rSunZ*rSunZ))\n",
    "\n",
    "    r_rSun /=rSunMag\n",
    "\n",
    "    rMag = np.sqrt(float(x*x + y*y + z*z))\n",
    "\n",
    "    return r_rSun + np.sqrt(rMag*rMag - planetR*planetR)\n"
   ]
  },
  {
   "cell_type": "code",
   "execution_count": 5,
   "metadata": {},
   "outputs": [],
   "source": [
    "def alpha_beta(x,y,z, rSunX, rSunY,rSunZ, rSun, rEarth): \n",
    "    dx = x - rSunX\n",
    "    dy = y - rSunY\n",
    "    dz = z - rSunZ\n",
    "\n",
    "    mag = np.sqrt(float(dx*dx+ dy*dy + dz*dz))\n",
    "\n",
    "    alpha = np.arctan((rSun - rEarth)/ mag)\n",
    "    beta = np.arctan((rSun + rEarth)/ mag)\n",
    "\n",
    "    return alpha,beta\n"
   ]
  },
  {
   "cell_type": "code",
   "execution_count": 6,
   "metadata": {},
   "outputs": [],
   "source": [
    "def s_u(x,y,z, rSunX, rSunY,rSunZ, earthR, alpha):\n",
    "    r_rSun = dot(x,y,z, rSunX,rSunY,rSunZ)\n",
    "\n",
    "    rSunMag = np.sqrt(float(rSunX * rSunX + rSunY * rSunY + rSunZ*rSunZ))\n",
    "\n",
    "    r_rSun /=rSunMag\n",
    "\n",
    "    rMag = np.sqrt(float(x*x + y*y + z*z))\n",
    "\n",
    "    return r_rSun + np.cos(alpha) * (np.sqrt(float(rMag * rMag - earthR * earthR * (np.cos(alpha)**2))) + earthR * np.sin(alpha))\n",
    "\n",
    "def s_p(x,y,z, rSunX, rSunY,rSunZ, earthR, beta):\n",
    "    r_rSun = dot(x,y,z, rSunX,rSunY,rSunZ)\n",
    "\n",
    "    rSunMag = np.sqrt(float(rSunX * rSunX + rSunY * rSunY + rSunZ*rSunZ))\n",
    "\n",
    "    r_rSun /=rSunMag\n",
    "\n",
    "    rMag = np.sqrt(float(x*x + y*y + z*z))\n",
    "\n",
    "    return r_rSun + np.cos(beta) * (np.sqrt(float(rMag * rMag - earthR * earthR * (np.cos(beta)**2))) - earthR * np.sin(beta))"
   ]
  },
  {
   "cell_type": "code",
   "execution_count": 12,
   "metadata": {},
   "outputs": [],
   "source": [
    "def v_p(x,y,z,rSunX, rSunY, rSunZ, earthR, sunR):\n",
    "\n",
    "    s_c_value = s_c(x,y,z,rSunX,rSunY,rSunZ, earthR)\n",
    "\n",
    "    alpha,beta = alpha_beta(x,y,z, rSunX, rSunY, rSunZ, sunR, earthR)\n",
    "\n",
    "    s_u_value = s_u(x,y,z,rSunX,rSunY,rSunZ, earthR, alpha)\n",
    "    s_p_value = s_p(x,y,z,rSunX,rSunY,rSunZ, earthR, beta)\n",
    "\n",
    "    delta_h = s_u_value - s_p_value\n",
    "    \n",
    "    small_delta = 8 \n",
    "\n",
    "    return 0.5 * (1 + np.tanh( ( (small_delta * 2 * np.pi * earthR)/(delta_h) ) * s_c_value))"
   ]
  },
  {
   "cell_type": "code",
   "execution_count": 61,
   "metadata": {},
   "outputs": [],
   "source": [
    "v_p_array = []\n",
    "alpha_array = []\n",
    "beta_array = []\n",
    "s_c_array = []\n",
    "s_u_array = []\n",
    "s_p_array = []\n",
    "for i in range(n):\n",
    "    v_p_value = v_p(x[i], y[i], z[i], rSunX, rSunY, rSunZ, earthR, sunR)\n",
    "    v_p_array.append(v_p_value)\n",
    "\n",
    "    alpha_value,beta_value = alpha_beta(x[i],y[i],z[i],rSunX, rSunY, rSunZ,sunR,earthR)\n",
    "    alpha_array.append(alpha_value)\n",
    "    beta_array.append(beta_value)\n",
    "\n",
    "    s_c_array.append(s_c(x[i],y[i],z[i],rSunX,rSunY, rSunZ, earthR))\n",
    "    s_u_array.append(s_u(x[i],y[i],z[i],rSunX,rSunY, rSunZ, earthR, alpha_value))\n",
    "    s_p_array.append(s_p(x[i],y[i],z[i],rSunX,rSunY, rSunZ, earthR, beta_value))\n",
    "\n",
    "below_zero = False\n",
    "\n",
    "for i in range(n):\n",
    "    if not below_zero and s_p_array[i] < 0:\n",
    "        in_zero = i\n",
    "        below_zero = True\n",
    "\n",
    "    if below_zero and s_p_array[i] > 0:\n",
    "        out_zero = i\n",
    "        below_zero = False\n"
   ]
  },
  {
   "cell_type": "code",
   "execution_count": 79,
   "metadata": {},
   "outputs": [
    {
     "data": {
      "text/plain": [
       "<matplotlib.legend.Legend at 0x7f9a684fbcd0>"
      ]
     },
     "execution_count": 79,
     "metadata": {},
     "output_type": "execute_result"
    }
   ],
   "source": [
    "%matplotlib qt\n",
    "plt.plot(theta[in_zero:out_zero], s_c_array[in_zero:out_zero], label=\"s_c\")\n",
    "plt.plot(theta[in_zero:out_zero], s_u_array[in_zero:out_zero], label=\"s_u\")\n",
    "plt.plot(theta[in_zero:out_zero], s_p_array[in_zero:out_zero], label=\"s_p\")\n",
    "# plt.plot(theta, s_c_array, label=\"s_c\")\n",
    "# plt.plot(theta, s_u_array, label=\"s_u\")\n",
    "# plt.plot(theta, s_p_array, label=\"s_p\")\n",
    "# plt.ylim(-2 * 10**-3, 2 * 10**-3)\n",
    "plt.legend()\n",
    "# plt.axvline(0, linestyle=\"dotted\")\n",
    "# plt.axvline(np.pi/2, linestyle=\"dotted\")\n",
    "# plt.axvline(np.pi, linestyle=\"dotted\")\n",
    "# plt.axvline(np.pi * 3/2, linestyle=\"dotted\")\n",
    "# plt.axvline(np.pi * 2, linestyle=\"dotted\")"
   ]
  },
  {
   "cell_type": "code",
   "execution_count": 69,
   "metadata": {},
   "outputs": [
    {
     "data": {
      "text/plain": [
       "<matplotlib.lines.Line2D at 0x7f9aa905b910>"
      ]
     },
     "execution_count": 69,
     "metadata": {},
     "output_type": "execute_result"
    }
   ],
   "source": [
    "plt.plot(theta, s_c_array)\n",
    "plt.axhline(y=0)"
   ]
  },
  {
   "cell_type": "code",
   "execution_count": 75,
   "metadata": {},
   "outputs": [
    {
     "data": {
      "text/plain": [
       "2.9854398834293647"
      ]
     },
     "execution_count": 75,
     "metadata": {},
     "output_type": "execute_result"
    }
   ],
   "source": [
    "theta[in_zero]"
   ]
  },
  {
   "cell_type": "code",
   "execution_count": 74,
   "metadata": {},
   "outputs": [
    {
     "data": {
      "text/plain": [
       "3.298373805119077"
      ]
     },
     "execution_count": 74,
     "metadata": {},
     "output_type": "execute_result"
    }
   ],
   "source": [
    "theta[out_zero]"
   ]
  },
  {
   "cell_type": "code",
   "execution_count": 76,
   "metadata": {},
   "outputs": [
    {
     "data": {
      "text/plain": [
       "-41650986.79902484"
      ]
     },
     "execution_count": 76,
     "metadata": {},
     "output_type": "execute_result"
    }
   ],
   "source": [
    "x[in_zero]"
   ]
  },
  {
   "cell_type": "code",
   "execution_count": 77,
   "metadata": {},
   "outputs": [
    {
     "data": {
      "text/plain": [
       "-41646858.09038133"
      ]
     },
     "execution_count": 77,
     "metadata": {},
     "output_type": "execute_result"
    }
   ],
   "source": [
    "x[out_zero]"
   ]
  },
  {
   "cell_type": "code",
   "execution_count": null,
   "metadata": {},
   "outputs": [],
   "source": []
  }
 ],
 "metadata": {
  "kernelspec": {
   "display_name": "Python 3.9.13 ('base')",
   "language": "python",
   "name": "python3"
  },
  "language_info": {
   "codemirror_mode": {
    "name": "ipython",
    "version": 3
   },
   "file_extension": ".py",
   "mimetype": "text/x-python",
   "name": "python",
   "nbconvert_exporter": "python",
   "pygments_lexer": "ipython3",
   "version": "3.9.13"
  },
  "orig_nbformat": 4,
  "vscode": {
   "interpreter": {
    "hash": "bd47ca578aa186ca45d091a862afd9441bdcc50e0d1e2e061240440b4387c8e1"
   }
  }
 },
 "nbformat": 4,
 "nbformat_minor": 2
}
