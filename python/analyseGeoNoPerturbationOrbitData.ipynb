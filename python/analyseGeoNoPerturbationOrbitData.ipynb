{
 "cells": [
  {
   "cell_type": "code",
   "execution_count": 2,
   "metadata": {},
   "outputs": [],
   "source": [
    "import numpy as np\n",
    "import matplotlib.pyplot as plt\n",
    "import matplotlib as mpl\n",
    "from tqdm import tqdm\n",
    "mpl.rcParams['figure.dpi'] = 100"
   ]
  },
  {
   "cell_type": "code",
   "execution_count": 3,
   "metadata": {},
   "outputs": [
    {
     "name": "stderr",
     "output_type": "stream",
     "text": [
      "  2%|▏         | 57916/3153600 [00:00<00:10, 290275.48it/s]"
     ]
    },
    {
     "name": "stdout",
     "output_type": "stream",
     "text": [
      "firstdayI set to: 864\n"
     ]
    },
    {
     "name": "stderr",
     "output_type": "stream",
     "text": [
      "100%|██████████| 3153600/3153600 [00:10<00:00, 313264.69it/s]\n"
     ]
    }
   ],
   "source": [
    "with open(\"../simulationData/sat_10YearGeoOrbit_1671986735220.txt\") as f:\n",
    "    lines = f.readline()\n",
    "\n",
    "nSateliteDataPieces = 7\n",
    "\n",
    "data = lines.split(\",\")\n",
    "\n",
    "nTimesteps = int(len(data)/nSateliteDataPieces)\n",
    "\n",
    "oneDayInSeconds = 60*60*24\n",
    "\n",
    "oneYearInSeconds = oneDayInSeconds * 365\n",
    "\n",
    "x = []\n",
    "y = []\n",
    "z = []\n",
    "vx = []\n",
    "vy = []\n",
    "vz = []\n",
    "t = []\n",
    "\n",
    "firstDayI = -1;\n",
    "firstYearI = -1;\n",
    "\n",
    "for i in tqdm(range(nTimesteps)):\n",
    "\n",
    "    # if (i % 10 == 0):\n",
    "    stride = i * nSateliteDataPieces\n",
    "    x.append(float(data[stride + 0]))\n",
    "    y.append(float(data[stride + 1]))\n",
    "    z.append(float(data[stride + 2]))\n",
    "    vx.append(float(data[stride + 3]))\n",
    "    vy.append(float(data[stride + 4]))\n",
    "    vz.append(float(data[stride + 5]))\n",
    "    t.append(float(data[stride + 6]))\n",
    "    if (firstDayI == -1 and t[-1] >= oneDayInSeconds):\n",
    "        firstDayI = i\n",
    "        print(\"firstdayI set to: \" + str(i));\n",
    "    if (firstYearI == -1 and t[-1] >= oneYearInSeconds):\n",
    "        firstYearI = i"
   ]
  },
  {
   "cell_type": "code",
   "execution_count": 1,
   "metadata": {},
   "outputs": [
    {
     "ename": "NameError",
     "evalue": "name 'firstDayI' is not defined",
     "output_type": "error",
     "traceback": [
      "\u001b[0;31m---------------------------------------------------------------------------\u001b[0m",
      "\u001b[0;31mNameError\u001b[0m                                 Traceback (most recent call last)",
      "\u001b[0;32m/var/folders/4y/fx0bw6_x0vd849pqfl66h7640000gn/T/ipykernel_83538/447303252.py\u001b[0m in \u001b[0;36m<module>\u001b[0;34m\u001b[0m\n\u001b[0;32m----> 1\u001b[0;31m \u001b[0mprint\u001b[0m\u001b[0;34m(\u001b[0m\u001b[0mfirstDayI\u001b[0m\u001b[0;34m)\u001b[0m\u001b[0;34m\u001b[0m\u001b[0;34m\u001b[0m\u001b[0m\n\u001b[0m\u001b[1;32m      2\u001b[0m \u001b[0mplt\u001b[0m\u001b[0;34m.\u001b[0m\u001b[0mxlabel\u001b[0m\u001b[0;34m(\u001b[0m\u001b[0;34m\"z position of satellite (m)\"\u001b[0m\u001b[0;34m)\u001b[0m\u001b[0;34m\u001b[0m\u001b[0;34m\u001b[0m\u001b[0m\n\u001b[1;32m      3\u001b[0m \u001b[0mplt\u001b[0m\u001b[0;34m.\u001b[0m\u001b[0mylabel\u001b[0m\u001b[0;34m(\u001b[0m\u001b[0;34m\"x position of satellite (m)\"\u001b[0m\u001b[0;34m)\u001b[0m\u001b[0;34m\u001b[0m\u001b[0;34m\u001b[0m\u001b[0m\n\u001b[1;32m      4\u001b[0m \u001b[0mxFirstDay\u001b[0m \u001b[0;34m=\u001b[0m \u001b[0mx\u001b[0m\u001b[0;34m[\u001b[0m\u001b[0;34m:\u001b[0m\u001b[0mfirstDayI\u001b[0m\u001b[0;34m]\u001b[0m\u001b[0;34m\u001b[0m\u001b[0;34m\u001b[0m\u001b[0m\n\u001b[1;32m      5\u001b[0m \u001b[0myFirstDay\u001b[0m \u001b[0;34m=\u001b[0m \u001b[0my\u001b[0m\u001b[0;34m[\u001b[0m\u001b[0;34m:\u001b[0m\u001b[0mfirstDayI\u001b[0m\u001b[0;34m]\u001b[0m\u001b[0;34m\u001b[0m\u001b[0;34m\u001b[0m\u001b[0m\n",
      "\u001b[0;31mNameError\u001b[0m: name 'firstDayI' is not defined"
     ]
    }
   ],
   "source": [
    "print(firstDayI)\n",
    "plt.xlabel(\"z position of satellite (m)\")\n",
    "plt.ylabel(\"x position of satellite (m)\")\n",
    "xFirstDay = x[:firstDayI]\n",
    "yFirstDay = y[:firstDayI]\n",
    "plt.plot(xFirstDay[::1],yFirstDay[::1])\n",
    "plt.tight_layout()\n",
    "# plt.axis('scaled')\n",
    "plt.show()\n"
   ]
  },
  {
   "cell_type": "code",
   "execution_count": 58,
   "metadata": {},
   "outputs": [],
   "source": [
    "#calculate error of orbit from difference from geoorbit value\n",
    "\n",
    "correctR = 42238377.70930382\n",
    "\n",
    "error = [];\n",
    "yearlyError = [];\n",
    "\n",
    "for i in tqdm(range(len(t))):\n",
    "    xi = x[i];\n",
    "    yi = y[i];\n",
    "    zi = z[i];\n",
    "    r = np.sqrt(xi*xi + yi*yi + zi*zi)\n",
    "\n",
    "    errori = (abs(r-correctR)/correctR) * 100;\n",
    "    error.append(errori)\n",
    "\n",
    "    if (i !=0 and i % firstYearI == 0 ):\n",
    "        yearlyError.append(sum(error)/firstYearI)\n",
    "        error = []\n",
    "\n",
    "years = [];\n",
    "\n",
    "for i in range(len(yearlyError)):\n",
    "    years.append(i+1)"
   ]
  },
  {
   "cell_type": "code",
   "execution_count": 59,
   "metadata": {},
   "outputs": [
    {
     "data": {
      "text/plain": [
       "[<matplotlib.lines.Line2D at 0x7f9d68f304f0>]"
      ]
     },
     "execution_count": 59,
     "metadata": {},
     "output_type": "execute_result"
    },
    {
     "data": {
      "image/png": "[encoded data removed]",
      "text/plain": [
       "<Figure size 640x480 with 1 Axes>"
      ]
     },
     "metadata": {},
     "output_type": "display_data"
    }
   ],
   "source": [
    "plt.ylabel(\"% error\")\n",
    "plt.xlabel(\"Year number\")\n",
    "plt.plot(years, yearlyError)"
   ]
  },
  {
   "cell_type": "code",
   "execution_count": 76,
   "metadata": {},
   "outputs": [
    {
     "name": "stderr",
     "output_type": "stream",
     "text": [
      "  0%|          | 0/3153600 [00:00<?, ?it/s]/Users/fraser/Github/masters_project/python/orbitFunctions.py:61: RuntimeWarning: invalid value encountered in double_scalars\n",
      "  Omega = np.arccos(n[0] / nMag) * rad2Deg\n",
      "/Users/fraser/Github/masters_project/python/orbitFunctions.py:68: RuntimeWarning: invalid value encountered in double_scalars\n",
      "  omega = np.arccos(ne / (nMag * e)) * rad2Deg\n",
      "100%|██████████| 3153600/3153600 [01:04<00:00, 49143.38it/s]\n"
     ]
    }
   ],
   "source": [
    "#calculate kepler values\n",
    "from orbitFunctions import calculateKeplerElements\n",
    "\n",
    "e = []\n",
    "a = []\n",
    "inclination = []\n",
    "Omega = []\n",
    "omega = []\n",
    "trueAnomaly = []\n",
    "\n",
    "planetM = 5.972 * 10**24\n",
    "\n",
    "for i in tqdm(range(len(t))):\n",
    "    xi = x[i];\n",
    "    yi = y[i];\n",
    "    zi = z[i];\n",
    "\n",
    "    vxi = vx[i];\n",
    "    vyi = vy[i];\n",
    "    vzi = vz[i];\n",
    "\n",
    "    keplerElements = calculateKeplerElements(xi,yi,zi,vxi,vyi,vzi,planetM)\n",
    "\n",
    "    e.append(keplerElements[0])\n",
    "    a.append(keplerElements[1])\n",
    "    inclination.append(keplerElements[2])\n",
    "    Omega.append(keplerElements[3])\n",
    "    omega.append(keplerElements[4])\n",
    "    trueAnomaly.append(keplerElements[5])\n"
   ]
  },
  {
   "cell_type": "code",
   "execution_count": 79,
   "metadata": {},
   "outputs": [
    {
     "data": {
      "image/png": "[encoded data removed]",
      "text/plain": [
       "<Figure size 640x480 with 1 Axes>"
      ]
     },
     "metadata": {},
     "output_type": "display_data"
    }
   ],
   "source": [
    "plt.xlabel(\"Time (s)\")\n",
    "plt.ylabel(\"Inclination ($^\\circ$C)\")\n",
    "plt.plot(t,inclination);"
   ]
  },
  {
   "cell_type": "code",
   "execution_count": null,
   "metadata": {},
   "outputs": [],
   "source": []
  }
 ],
 "metadata": {
  "kernelspec": {
   "display_name": "Python 3.9.13 ('base')",
   "language": "python",
   "name": "python3"
  },
  "language_info": {
   "codemirror_mode": {
    "name": "ipython",
    "version": 3
   },
   "file_extension": ".py",
   "mimetype": "text/x-python",
   "name": "python",
   "nbconvert_exporter": "python",
   "pygments_lexer": "ipython3",
   "version": "3.9.13"
  },
  "orig_nbformat": 4,
  "vscode": {
   "interpreter": {
    "hash": "bd47ca578aa186ca45d091a862afd9441bdcc50e0d1e2e061240440b4387c8e1"
   }
  }
 },
 "nbformat": 4,
 "nbformat_minor": 2
}
