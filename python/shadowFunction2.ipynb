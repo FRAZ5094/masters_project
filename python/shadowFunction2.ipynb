{
 "cells": [
  {
   "cell_type": "code",
   "execution_count": 1,
   "metadata": {},
   "outputs": [],
   "source": [
    "import matplotlib.pyplot as plt\n",
    "import numpy as np\n",
    "import math"
   ]
  },
  {
   "cell_type": "code",
   "execution_count": 32,
   "metadata": {},
   "outputs": [],
   "source": [
    "r = 42164 * 10**3\n",
    "n = 1000000\n",
    "theta = np.linspace(0, np.pi * 2, n)\n",
    "t = np.linspace(0, 60*60*24, n)\n",
    "xs = r * np.cos(theta)\n",
    "ys = r * np.sin(theta)\n",
    "zs = 0\n",
    "\n",
    "sunX = 147.14 * 10**9\n",
    "sunY = 0\n",
    "sunZ = 0\n",
    "\n",
    "sunR = 696_340 * 10**3\n",
    "earthR = 6371 * 10**3"
   ]
  },
  {
   "cell_type": "code",
   "execution_count": 3,
   "metadata": {},
   "outputs": [],
   "source": [
    "def dot(x1,y1,z1, x2,y2,z2):\n",
    "    return x1*x2 + y1*y2 + z1*z2"
   ]
  },
  {
   "cell_type": "code",
   "execution_count": 21,
   "metadata": {},
   "outputs": [],
   "source": [
    "def v(rx,ry,rz, sunX, sunY, sunZ, sunR, earthR, theta):\n",
    "    #r is the position of the satellite (x,y,z)\n",
    "\n",
    "    dx = sunX - rx;\n",
    "    dy = sunY - ry;\n",
    "    dz = sunZ - rz;\n",
    "\n",
    "    dMag = math.sqrt(dx*dx + dy*dy + dz*dz)\n",
    "\n",
    "    s = math.sqrt(rx*rx + ry*ry + rz*rz)\n",
    "\n",
    "    a = math.asin(sunR/dMag)\n",
    "\n",
    "    b = math.asin(earthR/s)\n",
    "\n",
    "    s_d = dot(-rx,-ry,-rz, dx,dy,dz)\n",
    "\n",
    "    c = math.acos(s_d/(s*dMag))\n",
    "\n",
    "    x = (c**2 + a**2 - b**2)/(2*c)\n",
    "\n",
    "    if x >= a:\n",
    "        return 1\n",
    "\n",
    "    y = np.sqrt((a**2) - (x**2))\n",
    "\n",
    "    if x/a > 1 or x/a < -1:\n",
    "        return 0;\n",
    "\n",
    "    \n",
    "\n",
    "    A = (a**2) * np.arccos(x/a) + (b**2) * np.arccos((c-x)/b) - c*y;\n",
    "\n",
    "    return 1 - (A)/((np.pi)*(a**2))"
   ]
  },
  {
   "cell_type": "code",
   "execution_count": 33,
   "metadata": {},
   "outputs": [
    {
     "name": "stderr",
     "output_type": "stream",
     "text": [
      " 46%|████▌     | 458961/1000000 [00:01<00:02, 241442.53it/s]/var/folders/4y/fx0bw6_x0vd849pqfl66h7640000gn/T/ipykernel_50711/2719439195.py:25: RuntimeWarning: invalid value encountered in sqrt\n",
      "  y = np.sqrt((a**2) - (x**2))\n",
      "100%|██████████| 1000000/1000000 [00:04<00:00, 236170.62it/s]\n"
     ]
    }
   ],
   "source": [
    "from tqdm import tqdm\n",
    "foundP = False\n",
    "vs = []\n",
    "for i in tqdm(range(n)):\n",
    "    x = xs[i]\n",
    "    y = ys[i]\n",
    "    z = 0;\n",
    "\n",
    "    thetaI = theta[i]\n",
    "\n",
    "    vValue = v(x,y,z, sunX,sunY,sunZ,sunR, earthR, thetaI)\n",
    "\n",
    "    if not foundP and vValue != 1:\n",
    "        foundP = True\n",
    "        foundPI = i\n",
    "\n",
    "    vs.append(vValue)\n",
    "\n",
    "foundEI = vs.index(0);\n",
    "\n",
    "%matplotlib qt\n",
    "plt.plot(t,vs)\n",
    "plt.xlim((t[foundPI], t[foundEI]))\n",
    "# plt.axhline(1)\n",
    "plt.show()\n",
    "# plt.axhline(0)\n"
   ]
  },
  {
   "cell_type": "code",
   "execution_count": 35,
   "metadata": {},
   "outputs": [
    {
     "data": {
      "text/plain": [
       "130.1185301185251"
      ]
     },
     "execution_count": 35,
     "metadata": {},
     "output_type": "execute_result"
    }
   ],
   "source": [
    "t[foundEI]- t[foundPI]"
   ]
  }
 ],
 "metadata": {
  "kernelspec": {
   "display_name": "Python 3.9.13 ('base')",
   "language": "python",
   "name": "python3"
  },
  "language_info": {
   "codemirror_mode": {
    "name": "ipython",
    "version": 3
   },
   "file_extension": ".py",
   "mimetype": "text/x-python",
   "name": "python",
   "nbconvert_exporter": "python",
   "pygments_lexer": "ipython3",
   "version": "3.9.13"
  },
  "orig_nbformat": 4,
  "vscode": {
   "interpreter": {
    "hash": "bd47ca578aa186ca45d091a862afd9441bdcc50e0d1e2e061240440b4387c8e1"
   }
  }
 },
 "nbformat": 4,
 "nbformat_minor": 2
}
