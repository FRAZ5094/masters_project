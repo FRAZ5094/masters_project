{
 "cells": [
  {
   "cell_type": "code",
   "execution_count": null,
   "metadata": {},
   "outputs": [],
   "source": [
    "import numpy as np\n",
    "import matplotlib.pyplot as plt\n",
    "import matplotlib as mpl\n",
    "from tqdm import tqdm\n",
    "mpl.rcParams['figure.dpi'] = 100"
   ]
  },
  {
   "cell_type": "code",
   "execution_count": null,
   "metadata": {},
   "outputs": [],
   "source": [
    "from analysisFunctions import importOrbitData\n",
    "\n",
    "\n",
    "data = importOrbitData(\"sat_memorytest_1672837300609.txt\")"
   ]
  },
  {
   "cell_type": "code",
   "execution_count": 53,
   "metadata": {},
   "outputs": [
    {
     "name": "stdout",
     "output_type": "stream",
     "text": [
      "[0, 5256, 10512, 15768, 21024]\n"
     ]
    }
   ],
   "source": [
    "oneDayInSeconds = 86400\n",
    "oneYearInSeconds = oneDayInSeconds * 365\n",
    "dayI = []\n",
    "prevDayIValue = 1000000000\n",
    "yearI = []\n",
    "prevYearIValue = 1000000000\n",
    "for i in range(len(data[\"t\"])):\n",
    "    \n",
    "    if data[\"t\"][i] % oneDayInSeconds < prevDayIValue:\n",
    "        dayI.append(i)\n",
    "\n",
    "    prevDayIValue = data[\"t\"][i] % oneDayInSeconds;\n",
    "\n",
    "    if data[\"t\"][i] % oneYearInSeconds < prevYearIValue:\n",
    "        yearI.append(i)\n",
    "\n",
    "    prevYearIValue = data[\"t\"][i] % oneYearInSeconds;\n",
    "\n",
    "    # if not yearIFound and float(data[\"t\"][i]) > oneYearInSeconds:\n",
    "    #     yearI.append(i)\n",
    "    #     print(yearI)\n",
    "    #     yearIFound = True\n",
    "\n",
    "print(yearI)\n"
   ]
  },
  {
   "cell_type": "code",
   "execution_count": null,
   "metadata": {},
   "outputs": [],
   "source": []
  },
  {
   "cell_type": "code",
   "execution_count": null,
   "metadata": {},
   "outputs": [],
   "source": [
    "plt.xlabel(\"x position of satellite (m)\")\n",
    "plt.ylabel(\"y position of satellite (m)\")\n",
    "plt.scatter(data[\"x\"][:dayI[0]],data[\"y\"][:dayI[0]],s=1)\n",
    "plt.tight_layout()\n",
    "plt.axis('scaled')"
   ]
  },
  {
   "cell_type": "code",
   "execution_count": null,
   "metadata": {},
   "outputs": [],
   "source": []
  },
  {
   "cell_type": "code",
   "execution_count": null,
   "metadata": {},
   "outputs": [],
   "source": [
    "#calculate kepler values\n",
    "from analysisFunctions import calculateKeplerFromData\n",
    "\n",
    "keplerData = calculateKeplerFromData(data)\n",
    "\n"
   ]
  },
  {
   "cell_type": "code",
   "execution_count": 57,
   "metadata": {},
   "outputs": [
    {
     "data": {
      "text/plain": [
       "<matplotlib.collections.PathCollection at 0x7f7be2d57490>"
      ]
     },
     "execution_count": 57,
     "metadata": {},
     "output_type": "execute_result"
    },
    {
     "data": {
      "image/png": "[encoded data removed]",
      "text/plain": [
       "<Figure size 640x480 with 1 Axes>"
      ]
     },
     "metadata": {},
     "output_type": "display_data"
    }
   ],
   "source": [
    "plt.xlabel(\"Time (yr)\")\n",
    "plt.ylabel(\"Eccentricity\")\n",
    "n = 1000\n",
    "year = [ele/oneYearInSeconds for ele in data[\"t\"]]\n",
    "plt.scatter(year[:yearI[3]],keplerData[\"e\"][:yearI[3]],s=10)"
   ]
  },
  {
   "cell_type": "code",
   "execution_count": 48,
   "metadata": {},
   "outputs": [
    {
     "name": "stdout",
     "output_type": "stream",
     "text": [
      "0\n",
      "1\n",
      "2\n",
      "3\n",
      "0\n",
      "1\n",
      "2\n",
      "3\n",
      "0\n",
      "1\n"
     ]
    }
   ],
   "source": []
  },
  {
   "cell_type": "code",
   "execution_count": null,
   "metadata": {},
   "outputs": [],
   "source": []
  }
 ],
 "metadata": {
  "kernelspec": {
   "display_name": "Python 3.9.13 ('base')",
   "language": "python",
   "name": "python3"
  },
  "language_info": {
   "codemirror_mode": {
    "name": "ipython",
    "version": 3
   },
   "file_extension": ".py",
   "mimetype": "text/x-python",
   "name": "python",
   "nbconvert_exporter": "python",
   "pygments_lexer": "ipython3",
   "version": "3.9.13"
  },
  "orig_nbformat": 4,
  "vscode": {
   "interpreter": {
    "hash": "bd47ca578aa186ca45d091a862afd9441bdcc50e0d1e2e061240440b4387c8e1"
   }
  }
 },
 "nbformat": 4,
 "nbformat_minor": 2
}
