{
 "cells": [
  {
   "cell_type": "code",
   "execution_count": null,
   "metadata": {},
   "outputs": [],
   "source": []
  }
 ],
 "metadata": {
  "kernelspec": {
   "display_name": "Python 3.9.13 ('base')",
   "language": "python",
   "name": "python3"
  },
  "language_info": {
   "name": "python",
   "version": "3.9.13"
  },
  "vscode": {
   "interpreter": {
    "hash": "bd47ca578aa186ca45d091a862afd9441bdcc50e0d1e2e061240440b4387c8e1"
   }
  }
 },
 "nbformat": 4,
 "nbformat_minor": 5
}
